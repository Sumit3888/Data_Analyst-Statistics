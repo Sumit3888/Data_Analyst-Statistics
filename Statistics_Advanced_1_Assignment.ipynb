{
  "nbformat": 4,
  "nbformat_minor": 0,
  "metadata": {
    "colab": {
      "provenance": []
    },
    "kernelspec": {
      "name": "python3",
      "display_name": "Python 3"
    },
    "language_info": {
      "name": "python"
    }
  },
  "cells": [
    {
      "cell_type": "markdown",
      "source": [
        "**Question 1:** What is a random variable in probability theory?\n",
        "\n",
        "**Answer 1:**\n",
        "  - A random variable is a numerical quantity whose value is determined by the outcome of a random experiment.\n",
        "\n",
        "  - It assigns a number to each possible outcome.\n",
        "\n",
        "  - Example:\n",
        "    - Rolling a fair die. The random variable\n",
        "X can take values\n",
        "{1,2,3,4,5,6}.\n"
      ],
      "metadata": {
        "id": "pAYbQHbvALr3"
      }
    },
    {
      "cell_type": "markdown",
      "source": [
        "**Question 2:** What are the types of random variables?\n",
        "\n",
        "**Answer 2:**\n",
        "  - There are two main types:\n",
        "\n",
        "    **1. Discrete Random Variable** = Takes countable values (e.g., number of heads in 10 coin tosses).\n",
        "\n",
        "    **2. Continuous Random Variable** = Takes values from an interval of real numbers (e.g., height, weight, time)"
      ],
      "metadata": {
        "id": "_g6Ws5VuAqXu"
      }
    },
    {
      "cell_type": "markdown",
      "source": [
        "**Question 3:** Explain the difference between discrete and continuous distributions.\n",
        "\n",
        "**Answer 3:**\n",
        "  - **Discrete Distribution:** Probability is assigned to specific outcomes.  \n",
        "    - Example: Binomial distribution.\n",
        "\n",
        "  - **Continuous Distribution:** Probability is described by an interval, using a probability density function (pdf).\n",
        "    - Example: Normal distribution.\n",
        "\n"
      ],
      "metadata": {
        "id": "KQ-zoNxKBJJS"
      }
    },
    {
      "cell_type": "markdown",
      "source": [
        "**Question 4:** What is a binomial distribution, and how is it used in probability?\n",
        "\n",
        "**Answer 4:**\n",
        "  - **A binomial distribution** is a probability distribution that models the number of \"successes\" in a fixed number of independent trials, where each trial has only two possible outcomes (success or failure) and the probability of success is the same for each trial.\n",
        "  - Example:\n",
        "    - If you toss a coin 10 times (n=10) and want to know the probability of getting exactly 7 heads (k=7), where the probability of getting a head on any single flip (p) is 0.5, you would use the binomial distribution to find this probability.\n",
        "  - Formula:\n",
        "     - P(X=k)=(n/k)p^k(1-p)^n-k\n",
        "\n",
        "     \n"
      ],
      "metadata": {
        "id": "NyKWAXelBtd2"
      }
    },
    {
      "cell_type": "markdown",
      "source": [
        "**Question 5:** What is the standard normal distribution, and why is it important?\n",
        "\n",
        "**Answer 5:**\n",
        "  - The standard normal distribution is a normal distribution with mean\n",
        "0\n",
        "and standard deviation\n",
        "1\n",
        "\n",
        "\n",
        "  - Importance:\n",
        "\n",
        "    - Used in hypothesis testing and confidence intervals.\n",
        "\n",
        "    - Z-scores (standardized values) allow comparison across different distributions.\n"
      ],
      "metadata": {
        "id": "l07MwGhcIsua"
      }
    },
    {
      "cell_type": "markdown",
      "source": [
        "**Question 6:** What is the Central Limit Theorem (CLT), and why is it critical in statistics?\n",
        "\n",
        "**Answer 6:**\n",
        "  - The Central Limit Theorem (CLT) states that when independent random samples are taken from any population with mean\n",
        "μ and variance\n",
        "σ^\n",
        "2\n",
        ", the sampling distribution of the sample mean approaches a normal distribution as the sample size increases.\n",
        "\n",
        "  - Critical because it allows us to apply normal distribution-based methods (confidence intervals, hypothesis tests) even if the population is not normal.\n"
      ],
      "metadata": {
        "id": "qVrw2jebJQVe"
      }
    },
    {
      "cell_type": "markdown",
      "source": [
        "**Question 7:** What is the significance of confidence intervals in statistical analysis?\n",
        "\n",
        "**Answer 7:**\n",
        "  - A confidence interval (CI) provides a range of values within which the population parameter (like the mean) is expected to lie, with a given level of confidence (e.g., 95%).\n",
        "  - Example: A 95% CI means if we repeated the study many times, about 95% of the intervals would contain the true parameter.\n"
      ],
      "metadata": {
        "id": "ox5ymEWhJ_Ha"
      }
    },
    {
      "cell_type": "markdown",
      "source": [
        "**Question 8:** What is the concept of expected value in a probability distribution?\n",
        "\n",
        "**Answer 8:**\n",
        "  - The expected value (mean) of a random variable is the long-run average outcome of repeated experiments.\n",
        "  - Example: For a fair die,\n",
        "    - E[x]=(1+2+3+4+5+6)/6\n",
        "          =3.5."
      ],
      "metadata": {
        "id": "04PWklxKKtCB"
      }
    },
    {
      "cell_type": "code",
      "source": [
        "'''\n",
        "**Question 9:** Write a Python program to generate 1000 random numbers from a normal\n",
        "distribution with mean = 50 and standard deviation = 5. Compute its mean and standard\n",
        "deviation using NumPy, and draw a histogram to visualize the distribution.\n",
        "(Include your Python code and output in the code box below.)\n",
        "'''\n",
        "\n",
        "# Answer 9:\n",
        "\n",
        "import numpy as np\n",
        "import matplotlib.pyplot as plt\n",
        "\n",
        "mean = 50\n",
        "std_dev = 5\n",
        "num_samples = 1000\n",
        "data = np.random.normal(loc=mean, scale=std_dev, size=num_samples)\n",
        "\n",
        "mean_val = np.mean(data)\n",
        "std_val = np.std(data)\n",
        "\n",
        "print(\"Mean:\", mean_val)\n",
        "print(\"Standard Deviation:\", std_val)\n",
        "\n",
        "# Plot histogram\n",
        "plt.hist(data, bins=30, edgecolor='black', alpha=0.7)\n",
        "plt.title(\"Normal Distribution (mean=50, std=5)\")\n",
        "plt.xlabel(\"Value\")\n",
        "plt.ylabel(\"Frequency\")\n",
        "plt.show()\n"
      ],
      "metadata": {
        "colab": {
          "base_uri": "https://localhost:8080/",
          "height": 507
        },
        "id": "aMXGi8rQMQRU",
        "outputId": "a55bd88c-e0ba-4ed3-c82a-f1f383fa5bfc"
      },
      "execution_count": null,
      "outputs": [
        {
          "output_type": "stream",
          "name": "stdout",
          "text": [
            "Mean: 49.7798322388088\n",
            "Standard Deviation: 5.195098232411065\n"
          ]
        },
        {
          "output_type": "display_data",
          "data": {
            "text/plain": [
              "<Figure size 640x480 with 1 Axes>"
            ],
            "image/png": "[encoded data removed]"
          },
          "metadata": {}
        }
      ]
    },
    {
      "cell_type": "code",
      "source": [
        "'''\n",
        "Question 10: You are working as a data analyst for a retail company. The company has\n",
        "collected daily sales data for 2 years and wants you to identify the overall sales trend.\n",
        "daily_sales = [220, 245, 210, 265, 230, 250, 260, 275, 240, 255,\n",
        "235, 260, 245, 250, 225, 270, 265, 255, 250, 260]\n",
        "● Explain how you would apply the Central Limit Theorem to estimate the average sales\n",
        "with a 95% confidence interval.\n",
        "● Write the Python code to compute the mean sales and its confidence interval.\n",
        "(Include your Python code and output in the code box below.)\n",
        "'''\n",
        "\n",
        "# Answer 10:\n",
        "\n",
        "import numpy as np\n",
        "import scipy.stats as st\n",
        "\n",
        "daily_sales = [220, 245, 210, 265, 230, 250, 260, 275, 240, 255,\n",
        "               235, 260, 245, 250, 225, 270, 265, 255, 250, 260]\n",
        "\n",
        "# Convert to numpy array\n",
        "sales = np.array(daily_sales)\n",
        "\n",
        "# Mean and standard deviation\n",
        "mean_sales = np.mean(sales)\n",
        "std_sales = np.std(sales, ddof=1)  # sample std dev\n",
        "n = len(sales)\n",
        "\n",
        "# 95% confidence interval\n",
        "confidence_level = 0.95\n",
        "alpha = 1 - confidence_level\n",
        "z = st.norm.ppf(1 - alpha/2)\n",
        "margin_of_error = z * (std_sales / np.sqrt(n))\n",
        "ci_lower, ci_upper = mean_sales - margin_of_error, mean_sales + margin_of_error\n",
        "\n",
        "print(\"Mean Sales:\", mean_sales)\n",
        "print(\"95% Confidence Interval:\", (ci_lower, ci_upper))\n",
        "\n",
        "#Expanation: Using the Central Limit Theorem, the sample mean daily sales is ≈ 248 units,\n",
        "#            and the 95% confidence interval for the true average daily sales lies between 240 and 256 units\n",
        "\n"
      ],
      "metadata": {
        "colab": {
          "base_uri": "https://localhost:8080/"
        },
        "id": "8H1sMKm7NaO9",
        "outputId": "ee9c97fc-a1d5-4187-a351-199941c444c5"
      },
      "execution_count": 1,
      "outputs": [
        {
          "output_type": "stream",
          "name": "stdout",
          "text": [
            "Mean Sales: 248.25\n",
            "95% Confidence Interval: (np.float64(240.68326838343515), np.float64(255.81673161656485))\n"
          ]
        }
      ]
    }
  ]
}