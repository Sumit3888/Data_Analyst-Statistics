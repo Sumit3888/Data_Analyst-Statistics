{
  "nbformat": 4,
  "nbformat_minor": 0,
  "metadata": {
    "colab": {
      "provenance": []
    },
    "kernelspec": {
      "name": "python3",
      "display_name": "Python 3"
    },
    "language_info": {
      "name": "python"
    }
  },
  "cells": [
    {
      "cell_type": "code",
      "execution_count": null,
      "metadata": {
        "id": "pGUVdqaZg0RP"
      },
      "outputs": [],
      "source": []
    },
    {
      "cell_type": "markdown",
      "source": [
        "**Question 1:** What is the difference between descriptive statistics and inferential\n",
        "statistics? Explain with examples.\n",
        "\n",
        "**Answer 1:**\n",
        "  - Descriptive Statistics: Summarize and describe data (e.g., mean, median, charts).\n",
        "    - Example: Showing the average marks of 50 students in a class.\n",
        "\n",
        "  - Inferential Statistics: Draw conclusions about a population using a sample.\n",
        "    - Example: Predicting the average marks of all 500 students by surveying 50.\n"
      ],
      "metadata": {
        "id": "qNb3iXaNhDEQ"
      }
    },
    {
      "cell_type": "markdown",
      "source": [
        "**Question 2:** What is sampling in statistics? Explain the differences between random\n",
        "and stratified sampling.\n",
        "\n",
        "**Answer 2:**\n",
        "  - **Sampling:** Process of selecting a subset of individuals from a population.\n",
        "\n",
        "  - **Random Sampling:** Each individual has equal chance of being selected.\n",
        "\n",
        "  - **Stratified Sampling:** Population is divided into groups (strata), and samples are taken from each group.\n"
      ],
      "metadata": {
        "id": "b5EzLYk_iDEw"
      }
    },
    {
      "cell_type": "markdown",
      "source": [
        "**Question 3:** Define mean, median, and mode. Explain why these measures of central\n",
        "tendency are important.\n",
        "\n",
        "**Answer 3:**\n",
        "  - **Mean:** Arithmetic average of values.\n",
        "\n",
        "  - **Median:** Middle value when data is ordered.\n",
        "\n",
        "  - **Mode:** Most frequent value.\n",
        "  - Importance: These measures summarize data and show its central behavior.\n"
      ],
      "metadata": {
        "id": "nWRBxP63ixQb"
      }
    },
    {
      "cell_type": "markdown",
      "source": [
        "**Question 4:** Explain skewness and kurtosis. What does a positive skew imply about the\n",
        "data?\n",
        "\n",
        "**Answer 4:**\n",
        "  - **Skewness:** Measure of data asymmetry.\n",
        "\n",
        "  - **Kurtosis:** Measure of \"peakedness\" of distribution.\n",
        "\n",
        "  - **Positive Skew:** Data has a long right tail, meaning majority of values are smaller but a few large values or values are outliers that pull the mean upward.\n"
      ],
      "metadata": {
        "id": "gHTBEHEOjRqr"
      }
    },
    {
      "cell_type": "markdown",
      "source": [],
      "metadata": {
        "id": "Cu6Zxnlcj9XF"
      }
    },
    {
      "cell_type": "code",
      "source": [
        "'''\n",
        "Question 5: Implement a Python program to compute the mean, median, and mode of\n",
        "a given list of numbers.\n",
        "numbers = [12, 15, 12, 18, 19, 12, 20, 22, 19, 19, 24, 24, 24, 26, 28]\n",
        "'''\n",
        "\n",
        "# Answer 5:\n",
        "import statistics as stats\n",
        "\n",
        "numbers = [12, 15, 12, 18, 19, 12, 20, 22, 19, 19, 24, 24, 24, 26, 28]\n",
        "\n",
        "mean_value = stats.mean(numbers)\n",
        "median_value = stats.median(numbers)\n",
        "mode_value = stats.mode(numbers)\n",
        "\n",
        "print(\"Mean:\", mean_value)\n",
        "print(\"Median:\", median_value)\n",
        "print(\"Mode:\", mode_value)"
      ],
      "metadata": {
        "colab": {
          "base_uri": "https://localhost:8080/"
        },
        "id": "gE8n3oz2kF8H",
        "outputId": "5a136d39-24c3-4504-96f8-6ed2917d064b"
      },
      "execution_count": null,
      "outputs": [
        {
          "output_type": "stream",
          "name": "stdout",
          "text": [
            "Mean: 19.6\n",
            "Median: 19\n",
            "Mode: 12\n"
          ]
        }
      ]
    },
    {
      "cell_type": "code",
      "source": [
        "'''\n",
        "Question 6: Compute the covariance and correlation coefficient between the following\n",
        "two datasets provided as lists in Python:\n",
        "list_x = [10, 20, 30, 40, 50]\n",
        "list_y = [15, 25, 35, 45, 60]\n",
        "'''\n",
        "\n",
        "# Answer 6:\n",
        "import numpy as np\n",
        "\n",
        "list_x = [10, 20, 30, 40, 50]\n",
        "list_y = [15, 25, 35, 45, 60]\n",
        "\n",
        "cov_matrix = np.cov(list_x, list_y, bias=True)\n",
        "covariance = cov_matrix[0][1]\n",
        "\n",
        "correlation = np.corrcoef(list_x, list_y)[0][1]\n",
        "\n",
        "print(\"Covariance:\", covariance)\n",
        "print(\"Correlation Coefficient:\", correlation)\n"
      ],
      "metadata": {
        "colab": {
          "base_uri": "https://localhost:8080/"
        },
        "id": "Zz5P2WEGkyIT",
        "outputId": "4b180f0c-8167-45f8-f9ce-d7d98a534fb3"
      },
      "execution_count": null,
      "outputs": [
        {
          "output_type": "stream",
          "name": "stdout",
          "text": [
            "Covariance: 220.0\n",
            "Correlation Coefficient: 0.995893206467704\n"
          ]
        }
      ]
    },
    {
      "cell_type": "code",
      "source": [
        "'''\n",
        "Question 7: Write a Python script to draw a boxplot for the following numeric list and\n",
        "identify its outliers. Explain the result:\n",
        "data = [12, 14, 14, 15, 18, 19, 19, 21, 22, 22, 23, 23, 24, 26, 29, 35]\n",
        "'''\n",
        "\n",
        "# Answer 7:\n",
        "import matplotlib.pyplot as plt\n",
        "\n",
        "data = [12, 14, 14, 15, 18, 19, 19, 21, 22, 22, 23, 23, 24, 26, 29, 35]\n",
        "\n",
        "plt.boxplot(data)\n",
        "plt.title(\"Boxplot of Data\")\n",
        "plt.show()\n",
        "\n",
        "# Explain the result:\n",
        "#   - From below boxplot we can observe that, all the data is symmetrical but there is on one outlier value 35.\n",
        "\n"
      ],
      "metadata": {
        "colab": {
          "base_uri": "https://localhost:8080/",
          "height": 452
        },
        "id": "mehFnPqplU0D",
        "outputId": "74503168-cb88-4b00-8d87-be704c4faae7"
      },
      "execution_count": null,
      "outputs": [
        {
          "output_type": "display_data",
          "data": {
            "text/plain": [
              "<Figure size 640x480 with 1 Axes>"
            ],
            "image/png": "[encoded data removed]"
          },
          "metadata": {}
        }
      ]
    },
    {
      "cell_type": "code",
      "source": [
        "'''\n",
        "Question 8: You are working as a data analyst in an e-commerce company. The\n",
        "marketing team wants to know if there is a relationship between advertising spend and\n",
        "daily sales.\n",
        "● Explain how you would use covariance and correlation to explore this\n",
        "relationship.\n",
        "● Write Python code to compute the correlation between the two lists:\n",
        "advertising_spend = [200, 250, 300, 400, 500]\n",
        "daily_sales = [2200, 2450, 2750, 3200, 4000]\n",
        "'''\n",
        "\n",
        "# Answer 8:\n",
        "import numpy as np\n",
        "\n",
        "advertising_spend = [200, 250, 300, 400, 500]\n",
        "daily_sales = [2200, 2450, 2750, 3200, 4000]\n",
        "\n",
        "correlation = np.corrcoef(advertising_spend, daily_sales)[0][1]\n",
        "\n",
        "print(\"Correlation:\", correlation)\n",
        "\n",
        "# Explaination : We can see that when there is more advertising spend it increases sales."
      ],
      "metadata": {
        "colab": {
          "base_uri": "https://localhost:8080/"
        },
        "id": "-UhWvR7Smz9I",
        "outputId": "e139f42e-d65a-47a4-8c46-0c83ea4cae03"
      },
      "execution_count": null,
      "outputs": [
        {
          "output_type": "stream",
          "name": "stdout",
          "text": [
            "Correlation: 0.9935824101653329\n"
          ]
        }
      ]
    },
    {
      "cell_type": "code",
      "source": [
        "'''\n",
        "Question 9: Your team has collected customer satisfaction survey data on a scale of\n",
        "1-10 and wants to understand its distribution before launching a new product.\n",
        "● Explain which summary statistics and visualizations (e.g. mean, standard\n",
        "deviation, histogram) you’d use.\n",
        "● Write Python code to create a histogram using Matplotlib for the survey data:\n",
        "survey_scores = [7, 8, 5, 9, 6, 7, 8, 9, 10, 4, 7, 6, 9, 8, 7]\n",
        "'''\n",
        "\n",
        "# Answer 9:\n",
        "import matplotlib.pyplot as plt\n",
        "import statistics as stats\n",
        "\n",
        "survey_scores = [7, 8, 5, 9, 6, 7, 8, 9, 10, 4, 7, 6, 9, 8, 7]\n",
        "\n",
        "mean_score = stats.mean(survey_scores)\n",
        "std_dev = stats.stdev(survey_scores)\n",
        "\n",
        "print(\"Mean:\", mean_score)\n",
        "print(\"Standard Deviation:\", std_dev)\n",
        "\n",
        "plt.hist(survey_scores, bins=6, edgecolor='black')\n",
        "plt.title(\"Distribution of Customer Satisfaction Scores\")\n",
        "plt.xlabel(\"Scores\")\n",
        "plt.ylabel(\"Frequency\")\n",
        "plt.show()\n",
        "\n",
        "# Explanation : From histogram, we can see that most customers rated 6–9, showing high satisfaction.\n"
      ],
      "metadata": {
        "colab": {
          "base_uri": "https://localhost:8080/",
          "height": 507
        },
        "id": "SH8Li2igppGk",
        "outputId": "16c70f7e-73ec-4a1d-b46d-33bf2e488897"
      },
      "execution_count": 14,
      "outputs": [
        {
          "output_type": "stream",
          "name": "stdout",
          "text": [
            "Mean: 7.333333333333333\n",
            "Standard Deviation: 1.632993161855452\n"
          ]
        },
        {
          "output_type": "display_data",
          "data": {
            "text/plain": [
              "<Figure size 640x480 with 1 Axes>"
            ],
            "image/png": "[encoded data removed]"
          },
          "metadata": {}
        }
      ]
    }
  ]
}